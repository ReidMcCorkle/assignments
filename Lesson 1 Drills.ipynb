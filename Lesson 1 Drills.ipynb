{
 "cells": [
  {
   "cell_type": "markdown",
   "metadata": {},
   "source": [
    "# 1:\n",
    "\n",
    "I would ask if there is a statistically significant difference between the number of page views, purchases and conversions for each item, as more popular items are more likely to contribute to effective ad campaigns.  I would test this by comparing each item to the others with a t-test.  If none of the items have a significant advantage, I would choose the one with the highest profit margin.\n",
    "\n",
    "# 2:\n",
    "I would ask if any of the steps take more time to complete than average or have a lower rate of completion than the others, using a t-test to determine if the difference was significant.  I would also test how much marketing spending affects the number of sign up attempts on a weekly basis to determine if more or less spending is necessary.\n",
    "\n",
    "# 3:\n",
    "I would ask which hotels have the highest average number of bookings when compared to the number of times its page was visited, using a t-test to make sure the difference was significant.  I would include filters for price and availability, which would be more conducive to users finding a hotel that suits their needs.\n",
    "   \n",
    "# 4:\n",
    "I would compare the number of times each user used the product as well as the length of each session to similar data from established social media sites, using a t-test to determine if there is a significant difference between this product and other similar products\n"
   ]
  }
 ],
 "metadata": {
  "kernelspec": {
   "display_name": "Python 3",
   "language": "python",
   "name": "python3"
  },
  "language_info": {
   "codemirror_mode": {
    "name": "ipython",
    "version": 3
   },
   "file_extension": ".py",
   "mimetype": "text/x-python",
   "name": "python",
   "nbconvert_exporter": "python",
   "pygments_lexer": "ipython3",
   "version": "3.7.0"
  }
 },
 "nbformat": 4,
 "nbformat_minor": 2
}
