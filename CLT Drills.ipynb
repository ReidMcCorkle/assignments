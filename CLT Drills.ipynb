{
 "cells": [
  {
   "cell_type": "code",
   "execution_count": 9,
   "metadata": {},
   "outputs": [],
   "source": [
    "import numpy as np\n",
    "import pandas as pd\n",
    "import matplotlib.pyplot as plt\n",
    "from scipy.stats import ttest_ind\n",
    "%matplotlib inline"
   ]
  },
  {
   "cell_type": "code",
   "execution_count": 20,
   "metadata": {},
   "outputs": [
    {
     "name": "stdout",
     "output_type": "stream",
     "text": [
      "1.96 5.18 1.3184839779079607 1.416898020324681\n"
     ]
    }
   ],
   "source": [
    "pop1 = np.random.binomial(10, .2, 10000)\n",
    "pop2 = np.random.binomial(10, .5, 10000)\n",
    "sample1 = np.random.choice(pop1, 100, replace=True)\n",
    "sample2 = np.random.choice(pop2, 100, replace=True)\n",
    "mean1 = np.mean(sample1)\n",
    "mean2 = np.mean(sample2)\n",
    "std1 = np.std(sample1)\n",
    "std2 = np.std(sample2)\n",
    "print(mean1, mean2, std1, std2)"
   ]
  },
  {
   "cell_type": "markdown",
   "metadata": {},
   "source": [
    "As sample size increases, I expect the sample means and standard deviations to more closely approximate the population means and standard deviations."
   ]
  },
  {
   "cell_type": "code",
   "execution_count": 24,
   "metadata": {},
   "outputs": [
    {
     "name": "stdout",
     "output_type": "stream",
     "text": [
      "1.657 5.337 1.1930427486054302 1.9983570751995248\n"
     ]
    }
   ],
   "source": [
    "pop1 = np.random.binomial(10, .2, 20)\n",
    "pop2 = np.random.binomial(10, .5, 20)\n",
    "sample1 = np.random.choice(pop1, 1000, replace=True)\n",
    "sample2 = np.random.choice(pop2, 1000, replace=True)\n",
    "mean1 = np.mean(sample1)\n",
    "mean2 = np.mean(sample2)\n",
    "std1 = np.std(sample1)\n",
    "std2 = np.std(sample2)\n",
    "print(mean1, mean2, std1, std2)"
   ]
  },
  {
   "cell_type": "markdown",
   "metadata": {},
   "source": [
    "My prediction was accurate"
   ]
  },
  {
   "cell_type": "markdown",
   "metadata": {},
   "source": [
    "The sample means should move closer together.  The t-value should decrease when we change the probablity to .4, as the means will get closer together, so the p value should increase."
   ]
  },
  {
   "cell_type": "code",
   "execution_count": 27,
   "metadata": {},
   "outputs": [
    {
     "name": "stdout",
     "output_type": "stream",
     "text": [
      "3.01 5.23 1.1357376457615553 1.5865371095565337\n",
      "Ttest_indResult(statistic=11.320852535372927, pvalue=9.17476623334263e-23)\n",
      "4.22 5.08 1.323480260525256 1.6593974810153231\n",
      "Ttest_indResult(statistic=4.031428955896478, pvalue=8.038586406371249e-05)\n"
     ]
    }
   ],
   "source": [
    "pop1 = np.random.binomial(10, .3, 10000)\n",
    "pop2 = np.random.binomial(10, .5, 10000)\n",
    "sample1 = np.random.choice(pop1, 100, replace=True)\n",
    "sample2 = np.random.choice(pop2, 100, replace=True)\n",
    "mean1 = np.mean(sample1)\n",
    "mean2 = np.mean(sample2)\n",
    "std1 = np.std(sample1)\n",
    "std2 = np.std(sample2)\n",
    "print(mean1, mean2, std1, std2)\n",
    "print(ttest_ind(sample2, sample1, equal_var=False))\n",
    "pop1 = np.random.binomial(10, .4, 10000)\n",
    "pop2 = np.random.binomial(10, .5, 10000)\n",
    "sample1 = np.random.choice(pop1, 100, replace=True)\n",
    "sample2 = np.random.choice(pop2, 100, replace=True)\n",
    "mean1 = np.mean(sample1)\n",
    "mean2 = np.mean(sample2)\n",
    "std1 = np.std(sample1)\n",
    "std2 = np.std(sample2)\n",
    "print(mean1, mean2, std1, std2)\n",
    "print(ttest_ind(sample2, sample1, equal_var=False))"
   ]
  },
  {
   "cell_type": "markdown",
   "metadata": {},
   "source": [
    "My predictions were confirmed"
   ]
  },
  {
   "cell_type": "markdown",
   "metadata": {},
   "source": [
    "with large enough sample size, the sample means should approximate the population means"
   ]
  },
  {
   "cell_type": "code",
   "execution_count": 36,
   "metadata": {},
   "outputs": [
    {
     "name": "stdout",
     "output_type": "stream",
     "text": [
      "2.037297216057687 4.066306402340537 \n",
      " 2.0674875580452867 2.8577553098298925 \n",
      " 2.000406316877083 2.014422426240966 \n",
      " 3.8478606792332544 2.727116204752649\n"
     ]
    }
   ],
   "source": [
    "pop1 = np.random.chisquare(2, 10000)\n",
    "pop2 = np.random.chisquare(4, 10000)\n",
    "sample1 = np.random.choice(pop1, 1000, replace=True)\n",
    "sample2 = np.random.choice(pop2, 1000, replace=True)\n",
    "mean1 = np.mean(sample1)\n",
    "mean2 = np.mean(sample2)\n",
    "std1 = np.std(sample1)\n",
    "std2 = np.std(sample2)\n",
    "print(np.mean(pop1), np.mean(pop2),\"\\n\", np.std(pop1), np.std(pop2), \"\\n\", mean1, std1, \"\\n\", mean2, std2 )"
   ]
  },
  {
   "cell_type": "markdown",
   "metadata": {},
   "source": []
  }
 ],
 "metadata": {
  "kernelspec": {
   "display_name": "Python 3",
   "language": "python",
   "name": "python3"
  },
  "language_info": {
   "codemirror_mode": {
    "name": "ipython",
    "version": 3
   },
   "file_extension": ".py",
   "mimetype": "text/x-python",
   "name": "python",
   "nbconvert_exporter": "python",
   "pygments_lexer": "ipython3",
   "version": "3.7.0"
  }
 },
 "nbformat": 4,
 "nbformat_minor": 2
}
