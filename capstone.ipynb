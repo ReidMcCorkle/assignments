{
 "cells": [
  {
   "cell_type": "code",
   "execution_count": 38,
   "metadata": {},
   "outputs": [
    {
     "ename": "ImportError",
     "evalue": "cannot import name 'ttest_ind' from 'scipy' (c:\\users\\reid mccorkle\\appdata\\local\\programs\\python\\python37-32\\lib\\site-packages\\scipy\\__init__.py)",
     "output_type": "error",
     "traceback": [
      "\u001b[1;31m---------------------------------------------------------------------------\u001b[0m",
      "\u001b[1;31mImportError\u001b[0m                               Traceback (most recent call last)",
      "\u001b[1;32m<ipython-input-38-5bb3320f6b01>\u001b[0m in \u001b[0;36m<module>\u001b[1;34m()\u001b[0m\n\u001b[0;32m      2\u001b[0m \u001b[1;32mimport\u001b[0m \u001b[0mpandas\u001b[0m \u001b[1;32mas\u001b[0m \u001b[0mpd\u001b[0m\u001b[1;33m\u001b[0m\u001b[0m\n\u001b[0;32m      3\u001b[0m \u001b[1;32mimport\u001b[0m \u001b[0mmatplotlib\u001b[0m\u001b[1;33m.\u001b[0m\u001b[0mpyplot\u001b[0m \u001b[1;32mas\u001b[0m \u001b[0mplt\u001b[0m\u001b[1;33m\u001b[0m\u001b[0m\n\u001b[1;32m----> 4\u001b[1;33m \u001b[1;32mfrom\u001b[0m \u001b[0mscipy\u001b[0m \u001b[1;32mimport\u001b[0m \u001b[0mttest_ind\u001b[0m\u001b[1;33m\u001b[0m\u001b[0m\n\u001b[0m\u001b[0;32m      5\u001b[0m \u001b[0mget_ipython\u001b[0m\u001b[1;33m(\u001b[0m\u001b[1;33m)\u001b[0m\u001b[1;33m.\u001b[0m\u001b[0mrun_line_magic\u001b[0m\u001b[1;33m(\u001b[0m\u001b[1;34m'matplotlib'\u001b[0m\u001b[1;33m,\u001b[0m \u001b[1;34m'inline'\u001b[0m\u001b[1;33m)\u001b[0m\u001b[1;33m\u001b[0m\u001b[0m\n",
      "\u001b[1;31mImportError\u001b[0m: cannot import name 'ttest_ind' from 'scipy' (c:\\users\\reid mccorkle\\appdata\\local\\programs\\python\\python37-32\\lib\\site-packages\\scipy\\__init__.py)"
     ]
    }
   ],
   "source": [
    "import numpy as np\n",
    "import pandas as pd\n",
    "import matplotlib.pyplot as plt\n",
    "from scipy import stats\n",
    "%matplotlib inline"
   ]
  },
  {
   "cell_type": "markdown",
   "metadata": {},
   "source": [
    "The Google Play STore is the primary marketplace for applications on Android devices.  This data set provides information on nearly 10,000 apps available, including average user rating, castegory, approximate number of downloads and price.  Once broken down, this data can provide valuable information on how specific attributes of an app correlate to the app's perceived quality. "
   ]
  },
  {
   "cell_type": "code",
   "execution_count": 20,
   "metadata": {},
   "outputs": [
    {
     "data": {
      "image/png": "[encoded data removed]",
      "text/plain": [
       "<Figure size 432x288 with 1 Axes>"
      ]
     },
     "metadata": {
      "needs_background": "light"
     },
     "output_type": "display_data"
    },
    {
     "data": {
      "text/plain": [
       "count    9366.000000\n",
       "mean        4.191757\n",
       "std         0.515219\n",
       "min         1.000000\n",
       "25%         4.000000\n",
       "50%         4.300000\n",
       "75%         4.500000\n",
       "max         5.000000\n",
       "Name: Rating, dtype: float64"
      ]
     },
     "execution_count": 20,
     "metadata": {},
     "output_type": "execute_result"
    }
   ],
   "source": [
    "#import and process data, removing apps with less than 100 reviews or erroneous data (rating higher than 5)\n",
    "#display overview of data\n",
    "appdata = pd.read_csv('googleplaystore.csv')\n",
    "newappdata = pd.DataFrame()\n",
    "newappdata = appdata.loc[lambda df: appdata['Rating'] > 0, :]\n",
    "newappdata = newappdata.loc[lambda df: newappdata['Rating'] < 5.1, :]\n",
    "plt.hist(newappdata['Rating'])\n",
    "plt.title('Overall App Rating Distribution')\n",
    "plt.xlabel('Average Rating')\n",
    "plt.ylabel('Number of Apps')\n",
    "plt.show()\n",
    "newappdata['Rating'].describe()"
   ]
  },
  {
   "cell_type": "markdown",
   "metadata": {},
   "source": [
    "Before performing any analysis, we must first decide on a measurement of an app's perceived quality.  T|he two primary options are average rating and number of downloads.  Because of the way the data is presented, average rating provides a more quantitative measure of perceived quality.  The downloads counts provided are approximations, resulting in very noisy data.  The apps' aveerage ratings cluster around 4.2 with a standard deviation of .51 and a slight positive skew.  This will provide a reasonable baseline to measure various samples against.\n",
    "\n"
   ]
  },
  {
   "cell_type": "markdown",
   "metadata": {},
   "source": [
    "Now that we have a metric to measure an app's quality, let's see how price correlates to that metric"
   ]
  },
  {
   "cell_type": "code",
   "execution_count": 39,
   "metadata": {},
   "outputs": [
    {
     "name": "stdout",
     "output_type": "stream",
     "text": [
      "count    8719.000000\n",
      "mean        4.186203\n",
      "std         0.512338\n",
      "min         1.000000\n",
      "25%         4.000000\n",
      "50%         4.300000\n",
      "75%         4.500000\n",
      "max         5.000000\n",
      "Name: Rating, dtype: float64\n",
      "count    647.000000\n",
      "mean       4.266615\n",
      "std        0.547523\n",
      "min        1.000000\n",
      "25%        4.100000\n",
      "50%        4.400000\n",
      "75%        4.600000\n",
      "max        5.000000\n",
      "Name: Rating, dtype: float64\n"
     ]
    },
    {
     "data": {
      "image/png": "[encoded data removed]",
      "text/plain": [
       "<Figure size 432x288 with 1 Axes>"
      ]
     },
     "metadata": {
      "needs_background": "light"
     },
     "output_type": "display_data"
    },
    {
     "data": {
      "image/png": "[encoded data removed]",
      "text/plain": [
       "<Figure size 432x288 with 1 Axes>"
      ]
     },
     "metadata": {
      "needs_background": "light"
     },
     "output_type": "display_data"
    },
    {
     "data": {
      "text/plain": [
       "Ttest_indResult(statistic=3.8331695795790606, pvalue=0.00012733077427688148)"
      ]
     },
     "execution_count": 39,
     "metadata": {},
     "output_type": "execute_result"
    }
   ],
   "source": [
    "freedata = pd.DataFrame()\n",
    "paiddata = pd.DataFrame()\n",
    "freedata = newappdata.loc[lambda df: newappdata['Type'] == 'Free', :]\n",
    "paiddata = newappdata.loc[lambda df: newappdata['Type'] == 'Paid', :]\n",
    "print(freedata['Rating'].describe())\n",
    "print(paiddata['Rating'].describe())\n",
    "plt.hist(paiddata['Rating'])\n",
    "plt.title('Paid Apps')\n",
    "plt.xlabel('Rating')\n",
    "plt.ylabel('Number of Apps')\n",
    "plt.show()\n",
    "plt.hist(freedata['Rating'])\n",
    "plt.title('Free Apps')\n",
    "plt.xlabel('Rating')\n",
    "plt.ylabel('Number of Apps')\n",
    "plt.show()\n",
    "stats.ttest_ind(paiddata['Rating'], freedata['Rating'])"
   ]
  },
  {
   "cell_type": "markdown",
   "metadata": {},
   "source": [
    "From histograms of the free app ratings and paid app ratings, we can see that the paid apps have more positive skew, clustering around 4.27, while the free apps more closely resemble the overall distribution.  This makes logical sense, paid apps tend to have larger budgets and higher production value than free ones and users may be more inclined to give a higher score to a product they invested money into.  This difference might be attributable to the larger sample size of free apps, but a t test indicates a reasonable difference between the two with a high probability of statistical significance."
   ]
  },
  {
   "cell_type": "code",
   "execution_count": 45,
   "metadata": {},
   "outputs": [
    {
     "data": {
      "image/png": "[encoded data removed]",
      "text/plain": [
       "<Figure size 432x288 with 1 Axes>"
      ]
     },
     "metadata": {
      "needs_background": "light"
     },
     "output_type": "display_data"
    }
   ],
   "source": [
    "#create scatter plot of prices vs ratings\n",
    "plt.scatter(paiddata['Price'], paiddata['Rating'])\n",
    "plt.title('Rating vs. Price')\n",
    "plt.xlabel('Price')\n",
    "plt.ylabel('Rating')\n",
    "plt.show()"
   ]
  },
  {
   "cell_type": "markdown",
   "metadata": {},
   "source": [
    "Further evidence for this correlation is provided by plotting an apps price vs its rating.  a weak but relevant positive correlation exists between the two statistics."
   ]
  },
  {
   "cell_type": "markdown",
   "metadata": {},
   "source": [
    "Lets now see how an app's category is correlated with its rating"
   ]
  },
  {
   "cell_type": "code",
   "execution_count": 63,
   "metadata": {
    "scrolled": true
   },
   "outputs": [
    {
     "name": "stdout",
     "output_type": "stream",
     "text": [
      "                       Rating\n",
      "Category                     \n",
      "ART_AND_DESIGN       0.358297\n",
      "AUTO_AND_VEHICLES    0.543692\n",
      "BEAUTY               0.362603\n",
      "BOOKS_AND_REFERENCE  0.429046\n",
      "BUSINESS             0.624422\n",
      "COMICS               0.537758\n",
      "COMMUNICATION        0.426192\n",
      "DATING               0.630510\n",
      "EDUCATION            0.251894\n",
      "ENTERTAINMENT        0.302556\n",
      "EVENTS               0.419499\n",
      "FAMILY               0.508026\n",
      "FINANCE              0.642108\n",
      "FOOD_AND_DRINK       0.548070\n",
      "GAME                 0.365375\n",
      "HEALTH_AND_FITNESS   0.617822\n",
      "HOUSE_AND_HOME       0.368411\n",
      "LIBRARIES_AND_DEMO   0.378522\n",
      "LIFESTYLE            0.693907\n",
      "MAPS_AND_NAVIGATION  0.519926\n",
      "MEDICAL              0.663581\n",
      "NEWS_AND_MAGAZINES   0.536707\n",
      "PARENTING            0.517845\n",
      "PERSONALIZATION      0.352732\n",
      "PHOTOGRAPHY          0.462896\n",
      "PRODUCTIVITY         0.504931\n",
      "SHOPPING             0.404577\n",
      "SOCIAL               0.413809\n",
      "SPORTS               0.427857\n",
      "TOOLS                0.616143\n",
      "TRAVEL_AND_LOCAL     0.504691\n",
      "VIDEO_PLAYERS        0.551098\n",
      "WEATHER              0.331353\n",
      "                       Rating\n",
      "Category                     \n",
      "ART_AND_DESIGN       4.358065\n",
      "AUTO_AND_VEHICLES    4.190411\n",
      "BEAUTY               4.278571\n",
      "BOOKS_AND_REFERENCE  4.346067\n",
      "BUSINESS             4.121452\n",
      "COMICS               4.155172\n",
      "COMMUNICATION        4.158537\n",
      "DATING               3.970769\n",
      "EDUCATION            4.389032\n",
      "ENTERTAINMENT        4.126174\n",
      "EVENTS               4.435556\n",
      "FAMILY               4.192272\n",
      "FINANCE              4.131889\n",
      "FOOD_AND_DRINK       4.166972\n",
      "GAME                 4.286326\n",
      "HEALTH_AND_FITNESS   4.277104\n",
      "HOUSE_AND_HOME       4.197368\n",
      "LIBRARIES_AND_DEMO   4.178462\n",
      "LIFESTYLE            4.094904\n",
      "MAPS_AND_NAVIGATION  4.051613\n",
      "MEDICAL              4.189143\n",
      "NEWS_AND_MAGAZINES   4.132189\n",
      "PARENTING            4.300000\n",
      "PERSONALIZATION      4.335987\n",
      "PHOTOGRAPHY          4.192114\n",
      "PRODUCTIVITY         4.211396\n",
      "SHOPPING             4.259664\n",
      "SOCIAL               4.255598\n",
      "SPORTS               4.223511\n",
      "TOOLS                4.047411\n",
      "TRAVEL_AND_LOCAL     4.109292\n",
      "VIDEO_PLAYERS        4.063750\n",
      "WEATHER              4.244000\n"
     ]
    }
   ],
   "source": [
    "catdata = pd.DataFrame()\n",
    "mean = []\n",
    "std =[]\n",
    "mean = newappdata.groupby(['Category']).mean()\n",
    "std = newappdata.groupby(['Category']).std()\n",
    "print(std)\n",
    "print(mean)"
   ]
  },
  {
   "cell_type": "markdown",
   "metadata": {},
   "source": [
    "sorting the apps by category and displaying the means and standard deviations shows a few categories with below average scores and a few with above average scores.  Let's compare the two lowest scoring categories with the two highest scoreing categories"
   ]
  },
  {
   "cell_type": "code",
   "execution_count": 66,
   "metadata": {},
   "outputs": [
    {
     "data": {
      "text/plain": [
       "Ttest_indResult(statistic=-6.116112259944461, pvalue=1.422048519372099e-09)"
      ]
     },
     "execution_count": 66,
     "metadata": {},
     "output_type": "execute_result"
    }
   ],
   "source": [
    "stats.ttest_ind(newappdata.loc[lambda df: newappdata['Category'] == 'DATING', 'Rating'], newappdata.loc[lambda df: newappdata['Category'] == 'ART_AND_DESIGN', 'Rating'])\n",
    "stats.ttest_ind(newappdata.loc[lambda df: newappdata['Category'] == 'TOOLS', 'Rating'], newappdata.loc[lambda df: newappdata['Category'] == 'BOOKS_AND_REFERENCE', 'Rating'])"
   ]
  },
  {
   "cell_type": "markdown",
   "metadata": {},
   "source": [
    "The lowest scoring categories are dating and tools.  Dating apps are likely to be negatively perceived if the user is unable to find a suitable match.  Tools are likely to receive low scores if they don't work as advertised and from my experience, the play store contains lots of tool type apps that dont work very well.  Art/Design and book/Refernce type apps are easier to create and have a more narrow intended function, meaning they are more likely to function as advertised and generate higher scores."
   ]
  },
  {
   "cell_type": "markdown",
   "metadata": {},
   "source": [
    "Discuss further research ideas here, including some discussion on the limitations of this data set (lack of detailed data on downloads, revenue, etc.)"
   ]
  }
 ],
 "metadata": {
  "kernelspec": {
   "display_name": "Python 3",
   "language": "python",
   "name": "python3"
  },
  "language_info": {
   "codemirror_mode": {
    "name": "ipython",
    "version": 3
   },
   "file_extension": ".py",
   "mimetype": "text/x-python",
   "name": "python",
   "nbconvert_exporter": "python",
   "pygments_lexer": "ipython3",
   "version": "3.7.0"
  }
 },
 "nbformat": 4,
 "nbformat_minor": 2
}
