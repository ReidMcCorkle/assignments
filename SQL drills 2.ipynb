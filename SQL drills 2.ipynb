{
 "cells": [
  {
   "cell_type": "markdown",
   "metadata": {},
   "source": [
    "# 1:\n",
    "SELECT\n",
    "\tzip,\n",
    "\tdate,\n",
    "\tMAX(maxtemperaturef)\n",
    "FROM\n",
    "    weather\n",
    "GROUP BY\n",
    "\tzip,\n",
    "\tdate\n",
    "ORDER BY\n",
    "\tmax DESC\n",
    "\n",
    "# 2:\n",
    "\n",
    "SELECT\n",
    "\tstart_station,\n",
    "\tCOUNT(*) as start_count\n",
    "FROM\n",
    "    trips\n",
    "GROUP BY\n",
    "\tstart_station\n",
    "    \n",
    "# 3:\n",
    "\n",
    "SELECT\n",
    "\tduration\n",
    "FROM\n",
    "    trips\n",
    "GROUP BY\n",
    "\tduration\n",
    "ORDER BY\n",
    "\tduration ASC\n",
    "    \n",
    "# 4:\n",
    "\n",
    "SELECT\n",
    "\tend_station,\n",
    "\tAVG(duration) as avg_duration\n",
    "FROM\n",
    "\ttrips\n",
    "GROUP BY\n",
    "\tend_station\n",
    "\n"
   ]
  }
 ],
 "metadata": {
  "kernelspec": {
   "display_name": "Python 3",
   "language": "python",
   "name": "python3"
  },
  "language_info": {
   "codemirror_mode": {
    "name": "ipython",
    "version": 3
   },
   "file_extension": ".py",
   "mimetype": "text/x-python",
   "name": "python",
   "nbconvert_exporter": "python",
   "pygments_lexer": "ipython3",
   "version": "3.7.0"
  }
 },
 "nbformat": 4,
 "nbformat_minor": 2
}
