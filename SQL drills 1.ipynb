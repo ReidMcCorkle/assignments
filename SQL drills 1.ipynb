{
 "cells": [
  {
   "cell_type": "markdown",
   "metadata": {},
   "source": [
    "# 1:\n",
    "\n",
    "SELECT\n",
    "    duration,\n",
    "\ttrip_id\n",
    "FROM\n",
    "    trips\n",
    "WHERE \n",
    "    duration > 500\n",
    "ORDER BY duration DESC\n",
    "\n",
    "# 2:\n",
    "\n",
    "SELECT\n",
    "    *\n",
    "FROM\n",
    "    stations \n",
    "WHERE\n",
    "\tstation_id = 84\n",
    "    \n",
    "# 3:\n",
    "\n",
    "\n"
   ]
  }
 ],
 "metadata": {
  "kernelspec": {
   "display_name": "Python 3",
   "language": "python",
   "name": "python3"
  },
  "language_info": {
   "codemirror_mode": {
    "name": "ipython",
    "version": 3
   },
   "file_extension": ".py",
   "mimetype": "text/x-python",
   "name": "python",
   "nbconvert_exporter": "python",
   "pygments_lexer": "ipython3",
   "version": "3.7.0"
  }
 },
 "nbformat": 4,
 "nbformat_minor": 2
}
